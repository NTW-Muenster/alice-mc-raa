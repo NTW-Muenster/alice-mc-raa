{
 "cells": [
  {
   "cell_type": "markdown",
   "metadata": {},
   "source": [
    "Ein Jupyter Notebook besteht aus mehreren Zellen, die einzeln ausgeführt werden können. Eine Zelle kann mit Strg + Enter oder über den Menüpunkt Cell->Run Cell ausgeführt werden, der komplette Code kann über den Menüpunkt Cell->Run All ausgeführt werden.  \n",
    "\n",
    "Übung:\n",
    "Schreibe in die nächste Zelle:\n",
    "\n",
    "a=4<br>\n",
    "b=5<br>\n",
    "print(a+b)<br>\n",
    "print('a+b')<br>\n",
    "print(str(a)+'+'+str(b))<br>\n"
   ]
  },
  {
   "cell_type": "code",
   "execution_count": 1,
   "metadata": {},
   "outputs": [
    {
     "name": "stdout",
     "output_type": "stream",
     "text": [
      "9\n",
      "a+b\n",
      "4+5\n"
     ]
    }
   ],
   "source": [
    "a=4\n",
    "b=5\n",
    "print(a+b)\n",
    "print('a+b')\n",
    "print(str(a)+'+'+str(b))"
   ]
  },
  {
   "cell_type": "markdown",
   "metadata": {},
   "source": [
    "## if else:\n",
    "\n",
    "Über die if Abfrage können ein oder mehrere Bedingungen angegeben werden, unter denen etwas bestimmtes passieren soll. Wenn diese Bestimmungen nicht erfüllt sind, kann man über den else Befehl ein anderes Ereignis angeben. Also im Prinzip: Wenn x stimmt, mach y, sonst mach z.\n",
    "\n",
    "Gib in die nächste Zelle den folgenden Code ein und variiere die Variablen a und b\n",
    "\n",
    "if a>b:<br>\n",
    "&nbsp;&nbsp;&nbsp;&nbsp;&nbsp;&nbsp;    print('a ist größer als b')<br>\n",
    "if a==b:<br>\n",
    "&nbsp;&nbsp;&nbsp;&nbsp;&nbsp;&nbsp;    print('a und b sind gleichgroß')<br>\n",
    "else:<br>\n",
    "&nbsp;&nbsp;&nbsp;&nbsp;&nbsp;&nbsp;    print('b ist größer als a')<br>"
   ]
  },
  {
   "cell_type": "code",
   "execution_count": null,
   "metadata": {},
   "outputs": [],
   "source": []
  },
  {
   "cell_type": "markdown",
   "metadata": {},
   "source": [
    "## for loop:\n",
    "\n",
    "Mit einer for loop können Befehle beliebig oft wiederholt werden.\n",
    "\n",
    "probiere den folgenden Code aus\n",
    "\n",
    "for i in range (0,15):<br>\n",
    "&nbsp;&nbsp;&nbsp;&nbsp;&nbsp;&nbsp;    print(i**2)\n",
    "\n",
    "was siehst du?"
   ]
  },
  {
   "cell_type": "code",
   "execution_count": null,
   "metadata": {},
   "outputs": [],
   "source": []
  },
  {
   "cell_type": "markdown",
   "metadata": {},
   "source": [
    "### Übung:\n",
    "Schreibe eine Verbindung aus einer for Schleife und einem if else Befehl, der die Quadratzahlen von 0 bis 14 auflistet und zusätzlich einen print ausgibt, ob die Zahl größer oder kleiner als 100 ist. Achte dabei auf die richtigen Einrückungen."
   ]
  },
  {
   "cell_type": "code",
   "execution_count": null,
   "metadata": {},
   "outputs": [],
   "source": []
  },
  {
   "cell_type": "markdown",
   "metadata": {},
   "source": [
    "## Arrays:\n",
    "\n",
    "Ein Array ist eine Liste von Zahlen, die gemeinsam oder auch einzeln aufgerufen werden können. Bei der Position innerhalb eines Arrays wird bei 0 angefangen zu zählen. Die Position wird mit einer eckigen Klammer angegeben. Beispielhaft im unteren Code dargestellt."
   ]
  },
  {
   "cell_type": "code",
   "execution_count": null,
   "metadata": {},
   "outputs": [],
   "source": [
    "fibo=[1,1,2,3,5,8,13,21]\n",
    "print(fibo)\n",
    "print(fibo[6])\n",
    "fibo[5]=432\n",
    "print(fibo)"
   ]
  },
  {
   "cell_type": "markdown",
   "metadata": {},
   "source": [
    "Arrays können auch beliebig oft geschatelt werden wie im nächsten Beispiel zu sehen."
   ]
  },
  {
   "cell_type": "code",
   "execution_count": null,
   "metadata": {},
   "outputs": [],
   "source": [
    "array2=[[1,24,5,873,37,2],[23,6,77,84,100,22]]\n",
    "print(array2)\n",
    "print(array2[0][2])\n",
    "array2[0][3]=10\n",
    "print(array2)"
   ]
  },
  {
   "cell_type": "markdown",
   "metadata": {},
   "source": [
    "## Graphen Plotten:\n",
    "\n",
    "Um mit Python Graphen zu erstellen, werden zunächst Pakete benötigt, welche in der nächsten Zelle geladen werden können."
   ]
  },
  {
   "cell_type": "code",
   "execution_count": null,
   "metadata": {},
   "outputs": [],
   "source": [
    "import numpy as np\n",
    "from matplotlib import pyplot as plt"
   ]
  },
  {
   "cell_type": "markdown",
   "metadata": {},
   "source": [
    "Mit diesen Paketen können nun verschiedenste Graphen erzeugt und geplottet werden. In diesem Beispiel werden 6 Werte für die x-Achse gegenüber 6 Werten in der y-Achse aufgetragen. Dabei kann durch den Befehl fmt die Farbe und Art des Punktes verändert werden.<br>\n",
    "r=rot<br>\n",
    "g=grün<br>\n",
    "y=gelb<br>\n",
    "m=magenta<br>\n",
    "k=schwarz<br>\n",
    "c=cyan<br>\n",
    "w=weiß<br>\n",
    "b=blau<br>\n",
    "'.' \tpoint marker<br>\n",
    "',' \tpixel marker<br>\n",
    "'o' \tcircle marker<br>\n",
    "'v' \ttriangle_down marker<br>\n",
    "'^' \ttriangle_up marker<br>\n",
    "'<' \ttriangle_left marker<br>\n",
    "'>' \ttriangle_right marker<br>\n",
    "'1' \ttri_down marker<br>\n",
    "'2' \ttri_up marker<br>\n",
    "'3' \ttri_left marker<br>\n",
    "'4' \ttri_right marker<br>\n",
    "'s' \tsquare marker<br>\n",
    "'p' \tpentagon marker<br>\n",
    "'*' \tstar marker<br>\n",
    "'h' \thexagon1 marker<br>\n",
    "'H' \thexagon2 marker<br>\n",
    "'+' \tplus marker<br>\n",
    "'x' \tx marker<br>\n",
    "'D' \tdiamond marker<br>\n",
    "'d' \tthin_diamond marker<br>\n",
    "'|' \tvline marker<br>\n",
    "'_' \thline marker<br>"
   ]
  },
  {
   "cell_type": "code",
   "execution_count": null,
   "metadata": {},
   "outputs": [],
   "source": [
    "arrayx=[1,2,3,4,5,6]\n",
    "arrayy=[1,4,9,16,25,36]\n",
    "plt.errorbar(arrayx, arrayy, fmt='ro')\n",
    "plt.show()"
   ]
  },
  {
   "cell_type": "markdown",
   "metadata": {},
   "source": [
    "Durch das Numpy Paket können auch Funktionen geplottet werden. Im nächsten beispiel werden gleichmäßig 50 x-Werte in einem Bereich von 0 bis 2pi erstellt und dann die Funktion sin(x) geplottet. Dazu kannn der Bereich des Plots geändert werden durch plt.axis und eine Legende kann angelegt werden mit plt.legend."
   ]
  },
  {
   "cell_type": "code",
   "execution_count": null,
   "metadata": {},
   "outputs": [],
   "source": [
    "X = np.linspace(0, 2 * np.pi, 50, endpoint=True)\n",
    "F = np.sin(X)**2\n",
    "plt.plot(X,F, label='Sinus')\n",
    "startx, endx = -0.1, 2*np.pi + 0.1\n",
    "starty, endy = -1.1, 1.1\n",
    "plt.axis([startx, endx, starty, endy])\n",
    "plt.legend(loc='upper right')\n",
    "plt.show()"
   ]
  },
  {
   "cell_type": "markdown",
   "metadata": {},
   "source": [
    "Auch Histogramme können ganz einfach geplottet werden. Dazu werden hier im Beispiel 100000 Zufällige Werte aus einer Normalverteilung genommen und dann die Anzahl der jeweiligen Werte aufgetragen. Dabei werden die Werte in Bins gespeichert. Die Anzahl der Bins kann eingestellt werden, wodurch sich die Breite der Bins automatisch zu (Maxwert-Minwert)/Binzahl ergibt."
   ]
  },
  {
   "cell_type": "code",
   "execution_count": null,
   "metadata": {},
   "outputs": [],
   "source": [
    "gaussian_numbers = np.random.normal(size=100000)\n",
    "bins=100\n",
    "plt.hist(gaussian_numbers,bins)\n",
    "plt.title(\"Gaussian Histogram\")\n",
    "plt.xlabel(\"Wert\")\n",
    "plt.ylabel(\"Häufigkeit\")\n",
    "plt.show()"
   ]
  },
  {
   "cell_type": "code",
   "execution_count": null,
   "metadata": {},
   "outputs": [],
   "source": []
  }
 ],
 "metadata": {
  "kernelspec": {
   "display_name": "Python 3",
   "language": "python",
   "name": "python3"
  },
  "language_info": {
   "codemirror_mode": {
    "name": "ipython",
    "version": 3
   },
   "file_extension": ".py",
   "mimetype": "text/x-python",
   "name": "python",
   "nbconvert_exporter": "python",
   "pygments_lexer": "ipython3",
   "version": "3.6.9"
  }
 },
 "nbformat": 4,
 "nbformat_minor": 4
}
