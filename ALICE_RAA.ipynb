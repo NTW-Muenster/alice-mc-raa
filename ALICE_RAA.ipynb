{
 "cells": [
  {
   "cell_type": "markdown",
   "metadata": {},
   "source": [
    "# ALICE Masterclass R$_{AA}$"
   ]
  },
  {
   "cell_type": "markdown",
   "metadata": {},
   "source": [
    "    Laden der erforderlichen Pakete"
   ]
  },
  {
   "cell_type": "code",
   "execution_count": 130,
   "metadata": {},
   "outputs": [],
   "source": [
    "import ALICE_RAA_Tools as at\n",
    "import matplotlib.pyplot as plt\n",
    "import matplotlib as mpl\n",
    "import pandas as pd\n",
    "import numpy as np"
   ]
  },
  {
   "cell_type": "markdown",
   "metadata": {},
   "source": [
    "    Liste der zu untersuchenden Zentralitäten:\n",
    "    - 0-5%\n",
    "    - 10-20%\n",
    "    - 30-40% \n",
    "    - 40-50%\n",
    "    - 70-80%"
   ]
  },
  {
   "cell_type": "code",
   "execution_count": 131,
   "metadata": {
    "scrolled": false
   },
   "outputs": [],
   "source": [
    "listCentralities = [(0,5),\n",
    "                    (30,40), \n",
    "                    (40,50), \n",
    "                    (70,80)]"
   ]
  },
  {
   "cell_type": "markdown",
   "metadata": {},
   "source": [
    "    Erstellen eines Dictionaries"
   ]
  },
  {
   "cell_type": "code",
   "execution_count": 132,
   "metadata": {},
   "outputs": [
    {
     "name": "stdout",
     "output_type": "stream",
     "text": [
      "processing centrality range: 0-5% - (0/5)\n",
      "processing centrality range: 30-40% - (30/40)\n",
      "processing centrality range: 40-50% - (40/50)\n",
      "processing centrality range: 70-80% - (70/80)\n"
     ]
    }
   ],
   "source": [
    "dictCentralities = at.create_dictionary(listCentralities)\n"
   ]
  },
  {
   "cell_type": "markdown",
   "metadata": {},
   "source": [
    "# 1. Event-Analyse"
   ]
  },
  {
   "cell_type": "markdown",
   "metadata": {},
   "source": [
    "### 1.1 Einlesen der Events"
   ]
  },
  {
   "cell_type": "markdown",
   "metadata": {},
   "source": [
    "    Zählen der Events"
   ]
  },
  {
   "cell_type": "code",
   "execution_count": 133,
   "metadata": {},
   "outputs": [
    {
     "name": "stdout",
     "output_type": "stream",
     "text": [
      "Number of events: '118909'!\n"
     ]
    }
   ],
   "source": [
    "event_lines = at.count_lines('event_information.csv')\n",
    "print(\"Number of events: '\" + str(event_lines) + \"'!\")"
   ]
  },
  {
   "cell_type": "markdown",
   "metadata": {},
   "source": [
    "    Einlesen der Event-Information aus der CSV-Datei"
   ]
  },
  {
   "cell_type": "code",
   "execution_count": 134,
   "metadata": {
    "scrolled": true
   },
   "outputs": [],
   "source": [
    "df_events = pd.read_csv(\"event_information.csv\", header=None, names=['eventMult', 'eventCent'])"
   ]
  },
  {
   "cell_type": "code",
   "execution_count": 135,
   "metadata": {},
   "outputs": [
    {
     "name": "stdout",
     "output_type": "stream",
     "text": [
      "   eventMult  eventCent\n",
      "0          4   100.0000\n",
      "1          1    88.2660\n",
      "2        275    41.6756\n",
      "3        449    23.1375\n",
      "4        267    42.8638\n"
     ]
    }
   ],
   "source": [
    "print(df_events.head())"
   ]
  },
  {
   "cell_type": "markdown",
   "metadata": {},
   "source": [
    "### 1.2 Bearbeiten der Daten"
   ]
  },
  {
   "cell_type": "markdown",
   "metadata": {},
   "source": [
    "    Hinzufügen von Spalten zum DataFrame für jedes Zentralitätsintervall"
   ]
  },
  {
   "cell_type": "code",
   "execution_count": 136,
   "metadata": {},
   "outputs": [
    {
     "name": "stdout",
     "output_type": "stream",
     "text": [
      "   eventMult  eventCent    0-5  30-40  40-50  70-80\n",
      "0          4   100.0000  False  False  False  False\n",
      "1          1    88.2660  False  False  False  False\n",
      "2        275    41.6756  False  False  False  False\n",
      "3        449    23.1375  False  False  False  False\n",
      "4        267    42.8638  False  False  False  False\n"
     ]
    }
   ],
   "source": [
    "for key in dictCentralities:\n",
    "    df_events[key] = False\n",
    "\n",
    "print(df_events.head())"
   ]
  },
  {
   "cell_type": "markdown",
   "metadata": {},
   "source": [
    "    Füllen der Zentralitätsinformation und Bestimmung der Anzahl an Events pro Zentralitätsintervall"
   ]
  },
  {
   "cell_type": "code",
   "execution_count": 137,
   "metadata": {},
   "outputs": [
    {
     "name": "stdout",
     "output_type": "stream",
     "text": [
      "   eventMult  eventCent    0-5  30-40  40-50  70-80\n",
      "0          4   100.0000  False  False  False  False\n",
      "1          1    88.2660  False  False  False  False\n",
      "2        275    41.6756  False  False   True  False\n",
      "3        449    23.1375  False  False  False  False\n",
      "4        267    42.8638  False  False   True  False\n",
      "{'40-50': 12072, '30-40': 12115, '0-5': 5983, '70-80': 12246}\n"
     ]
    }
   ],
   "source": [
    "dictEventsCent = {}\n",
    "for row in df_events.iterrows():\n",
    "    keys = at.find_centralities(dictCentralities, row[1]['eventCent'])\n",
    "    if keys:\n",
    "        for cent in keys:\n",
    "            df_events.loc[row[0], cent] = True\n",
    "            if cent in dictEventsCent:\n",
    "                dictEventsCent[cent] += 1\n",
    "            else:\n",
    "                dictEventsCent[cent] = 0\n",
    "                \n",
    "print(df_events.head())\n",
    "print(dictEventsCent)"
   ]
  },
  {
   "cell_type": "markdown",
   "metadata": {},
   "source": [
    "### 1.3 Darstellung der Ergebnisse"
   ]
  },
  {
   "cell_type": "markdown",
   "metadata": {},
   "source": [
    "    Erzeugung & Darstellung der Histogramme zur Teilchenmultiplizität (0-5%, 10-20%, 30-40%, 40-50%, 70-80%)"
   ]
  },
  {
   "cell_type": "code",
   "execution_count": 138,
   "metadata": {},
   "outputs": [],
   "source": [
    "hTPC_0_100, bins = at.create_event_histos(df_events['eventMult'])\n",
    "hTPC_0_5,   bins = at.create_event_histos(df_events[df_events['0-5'] == True]['eventMult'])\n",
    "hTPC_30_40, bins = at.create_event_histos(df_events[df_events['30-40'] == True]['eventMult'])\n",
    "hTPC_70_80, bins = at.create_event_histos(df_events[df_events['70-80'] == True]['eventMult'])"
   ]
  },
  {
   "cell_type": "code",
   "execution_count": 139,
   "metadata": {},
   "outputs": [],
   "source": [
    "hTPC_0_100_err = np.sqrt(hTPC_0_100)\n",
    "hTPC_0_5_err   = np.sqrt(hTPC_0_5)\n",
    "hTPC_30_40_err = np.sqrt(hTPC_30_40)\n",
    "hTPC_70_80_err = np.sqrt(hTPC_70_80)"
   ]
  },
  {
   "cell_type": "code",
   "execution_count": 140,
   "metadata": {},
   "outputs": [
    {
     "data": {
      "image/png": "[encoded data removed]",
      "text/plain": [
       "<matplotlib.figure.Figure at 0x7f1800eff080>"
      ]
     },
     "metadata": {
      "needs_background": "light"
     },
     "output_type": "display_data"
    }
   ],
   "source": [
    "plt.errorbar(bins[:-1], hTPC_0_100, yerr=hTPC_0_100_err, fmt='g+', label='0-100%')\n",
    "plt.errorbar(bins[:-1], hTPC_0_5,   yerr=hTPC_0_5_err,   fmt='y+', label='0-5%')\n",
    "plt.errorbar(bins[:-1], hTPC_30_40, yerr=hTPC_30_40_err, fmt='b+', label='30-40%')\n",
    "plt.errorbar(bins[:-1], hTPC_70_80, yerr=hTPC_70_80_err, fmt='r+', label='70-80%')\n",
    "#zu den Einstllungen unter 'fmt' ist folgende Seite nützlich\n",
    "#https://matplotlib.org/3.1.1/api/_as_gen/matplotlib.pyplot.plot.html#matplotlib.pyplot.plot\n",
    "\n",
    "plt.xlabel('Number of TPC tracks')\n",
    "plt.ylabel('Counts')\n",
    "plt.ylim(1,2E4)\n",
    "plt.yscale('log')\n",
    "\n",
    "plt.legend(loc='upper right')\n",
    "plt.savefig('TPC_tracks.pdf')"
   ]
  },
  {
   "cell_type": "markdown",
   "metadata": {},
   "source": [
    "    2D-Plot: Teilchenspurmultiplizität gegen Zentralität"
   ]
  },
  {
   "cell_type": "code",
   "execution_count": 141,
   "metadata": {},
   "outputs": [
    {
     "data": {
      "image/png": "[encoded data removed]",
      "text/plain": [
       "<matplotlib.figure.Figure at 0x7f18007fa978>"
      ]
     },
     "metadata": {
      "needs_background": "light"
     },
     "output_type": "display_data"
    }
   ],
   "source": [
    "plt.hist2d(df_events['eventMult'],df_events['eventCent'], bins=(200,100), range=[[0, 2000], [0, 100]], cmap=plt.cm.jet, norm=mpl.colors.LogNorm())\n",
    "\n",
    "plt.colorbar()\n",
    "plt.xlabel('Number of TPC tracks')\n",
    "plt.ylabel('Centrality')\n",
    "plt.savefig('TPC_tracks_2D.pdf')"
   ]
  },
  {
   "cell_type": "markdown",
   "metadata": {},
   "source": [
    "# 2. Teilchenspuren und Impulsspektren"
   ]
  },
  {
   "cell_type": "markdown",
   "metadata": {},
   "source": [
    "    Liste der zu untersuchenden Zentralitäten:\n",
    "    - 0-5%\n",
    "    - 10-20%\n",
    "    - 30-40% \n",
    "    - 40-50%\n",
    "    - 70-80%"
   ]
  },
  {
   "cell_type": "markdown",
   "metadata": {},
   "source": [
    "## 2.1 Einlesen der Pb-Pb Daten"
   ]
  },
  {
   "cell_type": "code",
   "execution_count": 142,
   "metadata": {},
   "outputs": [
    {
     "name": "stdout",
     "output_type": "stream",
     "text": [
      "Number of tracks: '38042122'! ~600MB Datei (ungepackt)\n"
     ]
    }
   ],
   "source": [
    "print(\"Number of tracks: '38042122'! ~600MB Datei (ungepackt)\")"
   ]
  },
  {
   "cell_type": "code",
   "execution_count": 143,
   "metadata": {},
   "outputs": [],
   "source": [
    "dictMomCent = {}\n",
    "for key in dictCentralities:\n",
    "    dictMomCent[key] = []"
   ]
  },
  {
   "cell_type": "code",
   "execution_count": 144,
   "metadata": {},
   "outputs": [],
   "source": [
    "df_tracks = pd.read_pickle(\"./track_info.pkl\", 'bz2').to_numpy()"
   ]
  },
  {
   "cell_type": "markdown",
   "metadata": {},
   "source": [
    "### 2.2 Sortieren nach Zentralität"
   ]
  },
  {
   "cell_type": "code",
   "execution_count": 145,
   "metadata": {},
   "outputs": [],
   "source": [
    "for line in df_tracks:\n",
    "    keys = at.find_centralities(dictCentralities, line[1])\n",
    "    if keys:\n",
    "        for key in keys:\n",
    "            dictMomCent[key].append(line[0])"
   ]
  },
  {
   "cell_type": "markdown",
   "metadata": {},
   "source": [
    "### 2.3 Erzeugen der Histogramme"
   ]
  },
  {
   "cell_type": "code",
   "execution_count": 146,
   "metadata": {},
   "outputs": [],
   "source": [
    "binsPt = at.get_bins()\n",
    "binWidth = at.get_bin_width(binsPt)\n",
    "x_bin_width = np.asarray(binWidth)/2"
   ]
  },
  {
   "cell_type": "code",
   "execution_count": 147,
   "metadata": {},
   "outputs": [],
   "source": [
    "hPbPb_0_5, _  = np.histogram(dictMomCent['0-5'], binsPt)\n",
    "hPbPb_0_5_err = np.sqrt(hPbPb_0_5) / dictEventsCent['0-5']\n",
    "hPbPb_0_5 = hPbPb_0_5 / binWidth\n",
    "hPbPb_0_5 = hPbPb_0_5 / dictEventsCent['0-5']\n",
    "\n",
    "hPbPb_30_40, _ = np.histogram(dictMomCent['30-40'], binsPt)\n",
    "hPbPb_30_40_err = np.sqrt(hPbPb_30_40) / dictEventsCent['30-40']\n",
    "hPbPb_30_40 = hPbPb_30_40 / binWidth\n",
    "hPbPb_30_40 = hPbPb_30_40 / dictEventsCent['30-40']\n",
    "\n",
    "hPbPb_70_80, _ = np.histogram(dictMomCent['70-80'], binsPt)\n",
    "# Spezialfall für 70-80%, ein Bin ist Null - problematisch für spätere Division - daher 0 durch 1 ersetzen\n",
    "hPbPb_70_80 = np.where(hPbPb_70_80==0,1,hPbPb_70_80)\n",
    "hPbPb_70_80_err = np.sqrt(hPbPb_70_80) / dictEventsCent['70-80']\n",
    "hPbPb_70_80 = hPbPb_70_80 / binWidth\n",
    "hPbPb_70_80 = hPbPb_70_80 / dictEventsCent['70-80']"
   ]
  },
  {
   "cell_type": "markdown",
   "metadata": {},
   "source": [
    "### 2.4 Einlesen der Proton-Proton Referenz"
   ]
  },
  {
   "cell_type": "code",
   "execution_count": 148,
   "metadata": {},
   "outputs": [
    {
     "name": "stdout",
     "output_type": "stream",
     "text": [
      "[7.45490e+00 7.65275e+00 7.30830e+00 6.69179e+00 5.95329e+00 5.23470e+00\n",
      " 4.56247e+00 3.95539e+00 3.45216e+00 2.98434e+00 2.59966e+00 2.27798e+00\n",
      " 1.98687e+00 1.73790e+00 1.52032e+00 1.33769e+00 1.17260e+00 9.74791e-01\n",
      " 7.62729e-01 6.07263e-01 4.81246e-01 3.84214e-01 3.06867e-01 2.49308e-01\n",
      " 2.01941e-01 1.64699e-01 1.34966e-01 1.02682e-01 7.11706e-02 4.93115e-02\n",
      " 3.52670e-02 2.58376e-02 1.86202e-02 1.39077e-02 1.07355e-02 8.15140e-03\n",
      " 6.29524e-03 3.92350e-03 2.20045e-03 1.29719e-03 8.06745e-04 5.13653e-04\n",
      " 3.40671e-04 1.98091e-04 9.95690e-05 5.45917e-05 3.35944e-05 2.00772e-05\n",
      " 1.32163e-05 9.10819e-06 4.99855e-06]\n"
     ]
    }
   ],
   "source": [
    "pp = np.genfromtxt('pp_reference.dat')\n",
    "print(pp)\n",
    "pp_err = np.divide(pp,10) #Annahme: 10% Fehler auf der pp Messung"
   ]
  },
  {
   "cell_type": "markdown",
   "metadata": {},
   "source": [
    "### 2.5 Darstellung der Transversalimpulsspektren geladener Teilchen"
   ]
  },
  {
   "cell_type": "code",
   "execution_count": 149,
   "metadata": {},
   "outputs": [
    {
     "data": {
      "image/png": "[encoded data removed]",
      "text/plain": [
       "<matplotlib.figure.Figure at 0x7f17e8dbd588>"
      ]
     },
     "metadata": {
      "needs_background": "light"
     },
     "output_type": "display_data"
    }
   ],
   "source": [
    "plt.errorbar(binsPt[:-1], hPbPb_0_5,   xerr=x_bin_width, yerr=hPbPb_0_5_err,   fmt='r.', label='0-5%')\n",
    "plt.errorbar(binsPt[:-1], hPbPb_30_40, xerr=x_bin_width, yerr=hPbPb_30_40_err, fmt='g.', label='30-40%')\n",
    "plt.errorbar(binsPt[:-1], hPbPb_70_80, xerr=x_bin_width, yerr=hPbPb_70_80_err, fmt='b.', label='70-80%')\n",
    "plt.errorbar(binsPt[:-1], pp,          xerr=x_bin_width, yerr=pp_err,          fmt='y+', label='pp')\n",
    "\n",
    "plt.xscale('log')\n",
    "plt.yscale('log')\n",
    "plt.xlim(0.1, 20)\n",
    "plt.ylim(1E-6, 1E4)\n",
    "\n",
    "plt.xlabel('$p_{T}$')\n",
    "plt.ylabel('Counts')\n",
    "plt.legend(loc='upper right')\n",
    "plt.show()"
   ]
  },
  {
   "cell_type": "markdown",
   "metadata": {},
   "source": [
    "### 2.6 Definition der Zentralitätsklassen"
   ]
  },
  {
   "cell_type": "markdown",
   "metadata": {},
   "source": [
    "Definition der Anzahl an Kollisionen für einzelne Zentralitäten"
   ]
  },
  {
   "cell_type": "code",
   "execution_count": 150,
   "metadata": {},
   "outputs": [
    {
     "name": "stdout",
     "output_type": "stream",
     "text": [
      "{'0-5': 1686.87, '0-10': 1502.7, '5-10': 1319.89, '10-20': 923.89, '20-30': 558.68, '30-40': 321.2, '40-50': 171.67, '50-60': 85.13, '60-70': 38.51, '70-80': 15.78, '80-90': 6.32, 'pp': 1.0}\n"
     ]
    }
   ],
   "source": [
    "dictNColl = {'0-5': 1686.87,\n",
    "             '0-10': 1502.7,\n",
    "             '5-10': 1319.89,\n",
    "             '10-20': 923.89,\n",
    "             '20-30': 558.68,\n",
    "             '30-40': 321.20,\n",
    "             '40-50': 171.67,\n",
    "             '50-60': 85.13,\n",
    "             '60-70': 38.51,\n",
    "             '70-80': 15.78,\n",
    "             '80-90': 6.32,\n",
    "             'pp':1.\n",
    "            }\n",
    "\n",
    "print(dictNColl)"
   ]
  },
  {
   "cell_type": "markdown",
   "metadata": {},
   "source": [
    "### 2.7 Berechnung und Darstellung des R$_{\\text{CP}}$"
   ]
  },
  {
   "cell_type": "code",
   "execution_count": 151,
   "metadata": {},
   "outputs": [],
   "source": [
    "RCP_0_5 = np.divide(hPbPb_0_5 / dictNColl['0-5'], hPbPb_70_80 / dictNColl['70-80'])\n",
    "RCP_30_40 = np.divide(hPbPb_30_40 / dictNColl['30-40'], hPbPb_70_80 / dictNColl['70-80'])                                                                "
   ]
  },
  {
   "cell_type": "code",
   "execution_count": 152,
   "metadata": {},
   "outputs": [],
   "source": [
    "RCP_0_5_err = at.fehlerberechnung(hPbPb_0_5, hPbPb_0_5_err, dictNColl['0-5'], hPbPb_70_80, hPbPb_70_80_err, dictNColl['70-80'])\n",
    "RCP_30_40_err = at.fehlerberechnung(hPbPb_30_40, hPbPb_30_40_err, dictNColl['30-40'], hPbPb_70_80, hPbPb_70_80_err, dictNColl['70-80'])"
   ]
  },
  {
   "cell_type": "code",
   "execution_count": 153,
   "metadata": {},
   "outputs": [
    {
     "data": {
      "image/png": "[encoded data removed]",
      "text/plain": [
       "<matplotlib.figure.Figure at 0x7f17e8dbd1d0>"
      ]
     },
     "metadata": {
      "needs_background": "light"
     },
     "output_type": "display_data"
    }
   ],
   "source": [
    "plt.errorbar(binsPt[:-1], RCP_0_5,   xerr=x_bin_width, yerr=RCP_0_5_err,   fmt='r.', label='0-5%')\n",
    "plt.errorbar(binsPt[:-1], RCP_30_40, xerr=x_bin_width, yerr=RCP_30_40_err, fmt='b.', label='30-40%')\n",
    "\n",
    "plt.ylim(-0.1,2)\n",
    "plt.xlabel('$p_{T}$')\n",
    "plt.ylabel(r'$R_{cp}=\\frac{1/N^{AA,X}_{evt}1/<N_{coll,X}>dN^{AA,X}/dp_t}{1/N^{PbPb,per}_{evt}1/<N_{coll,per}>dN^{PbPb,per}/dp_t}$')\n",
    "plt.legend(loc='upper right')\n",
    "plt.savefig('RCP_compared.pdf')"
   ]
  },
  {
   "cell_type": "markdown",
   "metadata": {},
   "source": [
    "### 2.8 Berechnung und Darstellung des R$_\\text{AA}$"
   ]
  },
  {
   "cell_type": "code",
   "execution_count": 154,
   "metadata": {},
   "outputs": [],
   "source": [
    "RAA_0_5   = np.divide(hPbPb_0_5 / dictNColl['0-5'], pp)\n",
    "RAA_30_40 = np.divide(hPbPb_30_40 / dictNColl['30-40'], pp)\n",
    "RAA_70_80 = np.divide(hPbPb_70_80 / dictNColl['70-80'], pp)"
   ]
  },
  {
   "cell_type": "code",
   "execution_count": 155,
   "metadata": {},
   "outputs": [],
   "source": [
    "RAA_0_5_err = at.fehlerberechnung(hPbPb_0_5, hPbPb_0_5_err, dictNColl['0-5'], pp, pp_err, dictNColl['pp'])\n",
    "RAA_30_40_err = at.fehlerberechnung(hPbPb_30_40, hPbPb_30_40_err, dictNColl['30-40'], pp, pp_err, dictNColl['pp'])\n",
    "RAA_70_80_err = at.fehlerberechnung(hPbPb_70_80, hPbPb_70_80_err, dictNColl['70-80'], pp, pp_err, dictNColl['pp'])"
   ]
  },
  {
   "cell_type": "code",
   "execution_count": 156,
   "metadata": {},
   "outputs": [
    {
     "data": {
      "image/png": "[encoded data removed]",
      "text/plain": [
       "<matplotlib.figure.Figure at 0x7f17ed002b70>"
      ]
     },
     "metadata": {
      "needs_background": "light"
     },
     "output_type": "display_data"
    }
   ],
   "source": [
    "plt.errorbar(binsPt[:-1], RAA_0_5,   xerr=x_bin_width, yerr=RAA_0_5_err,   fmt='r.', label='0-5%')\n",
    "plt.errorbar(binsPt[:-1], RAA_30_40, xerr=x_bin_width, yerr=RAA_30_40_err, fmt='b.', label='30-40%')\n",
    "plt.errorbar(binsPt[:-1], RAA_70_80, xerr=x_bin_width, yerr=RAA_70_80_err, fmt='g.', label='70-80%')\n",
    "\n",
    "plt.ylim(0.01,1.2)\n",
    "plt.xlabel('$p_{T}$')\n",
    "plt.ylabel(r'$R_{AA}=\\frac{1/N^{AA}_{evt}dN^{AA}/dp_t}{<N_{coll}>1/N_{pp_{evt}dN^{pp}/dp_t}}$')\n",
    "plt.legend(loc='upper right')\n",
    "plt.savefig('RAA_compared.pdf')"
   ]
  }
 ],
 "metadata": {
  "kernelspec": {
   "display_name": "Python 3",
   "language": "python",
   "name": "python3"
  },
  "language_info": {
   "codemirror_mode": {
    "name": "ipython",
    "version": 3
   },
   "file_extension": ".py",
   "mimetype": "text/x-python",
   "name": "python",
   "nbconvert_exporter": "python",
   "pygments_lexer": "ipython3",
   "version": "3.6.9"
  }
 },
 "nbformat": 4,
 "nbformat_minor": 2
}
