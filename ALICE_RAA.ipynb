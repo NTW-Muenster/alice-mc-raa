{
 "cells": [
  {
   "cell_type": "markdown",
   "metadata": {},
   "source": [
    "Laden der erforderlichen Pakete"
   ]
  },
  {
   "cell_type": "code",
   "execution_count": null,
   "metadata": {},
   "outputs": [],
   "source": [
    "from matplotlib import pyplot as plt\n",
    "import matplotlib as mpl\n",
    "import numpy as np\n",
    "import pandas as pd\n",
    "from numpy import savetxt"
   ]
  },
  {
   "cell_type": "markdown",
   "metadata": {},
   "source": [
    "Einstellen der zu untersuchenden Zentralitäten"
   ]
  },
  {
   "cell_type": "code",
   "execution_count": null,
   "metadata": {
    "scrolled": false
   },
   "outputs": [],
   "source": [
    "startCentrality1=0\n",
    "endCentrality1=100\n",
    "startCentrality2=0\n",
    "endCentrality2=5\n",
    "startCentrality3=30\n",
    "endCentrality3=40\n",
    "startCentrality4=40\n",
    "endCentrality4=50\n",
    "startCentrality5=70\n",
    "endCentrality5=80\n",
    "print(\"Collision system: PbPb\")\n",
    "for i in range (1,6):\n",
    "    a=globals()['startCentrality%s' % i]\n",
    "    b=globals()['endCentrality%s' % i]\n",
    "    print(\"Centrality \"+str(i)+\" chosen between:\"+str(a)+\"-\"+str(b))"
   ]
  },
  {
   "cell_type": "markdown",
   "metadata": {},
   "source": [
    "Zählen der vorhandenen Einträge im Track Tree"
   ]
  },
  {
   "cell_type": "code",
   "execution_count": null,
   "metadata": {},
   "outputs": [],
   "source": [
    "tracks=open(\"track_information.dat\",\"r\")\n",
    "trackLines=0\n",
    "for line in tracks:\n",
    "    trackLines += 1\n",
    "print(\"You have \"+str(trackLines)+\" for the track tree\")\n",
    "tracks.close()"
   ]
  },
  {
   "cell_type": "markdown",
   "metadata": {},
   "source": [
    "Zählen der vorhandenen Einträge im Event Tree"
   ]
  },
  {
   "cell_type": "code",
   "execution_count": null,
   "metadata": {},
   "outputs": [],
   "source": [
    "events=open(\"event_information.dat\",\"r\")\n",
    "eventLines=0\n",
    "for line in events:\n",
    "    eventLines += 1\n",
    "print(\"You have \"+str(eventLines)+\" for the event tree\")\n",
    "events.close()"
   ]
  },
  {
   "cell_type": "markdown",
   "metadata": {},
   "source": [
    "Definieren der Bingrößen für die Histogramme"
   ]
  },
  {
   "cell_type": "code",
   "execution_count": null,
   "metadata": {},
   "outputs": [],
   "source": [
    "fNBinsPt=54\n",
    "fBinsPt = [0, 0.05, 0.1, 0.15, 0.2, 0.25, 0.3, 0.35, 0.4, 0.45, 0.5,\n",
    "           0.55, 0.6, 0.65, 0.7, 0.75, 0.8, 0.85, 0.9, 0.95, 1, 1.1,\n",
    "           1.2, 1.3, 1.4, 1.5, 1.6, 1.7, 1.8, 1.9, 2, 2.2, 2.4, 2.6,\n",
    "           2.8, 3, 3.2, 3.4, 3.6, 3.8, 4, 4.5, 5, 5.5, 6, 6.5, 7, 8,\n",
    "           9, 10,11, 12, 13, 14, 15]"
   ]
  },
  {
   "cell_type": "markdown",
   "metadata": {},
   "source": [
    "Speichern der Trackdaten in Arrays für die jeweiligen Zentralitäten"
   ]
  },
  {
   "cell_type": "code",
   "execution_count": null,
   "metadata": {
    "scrolled": true
   },
   "outputs": [],
   "source": [
    "df=pd.read_csv(\"track_information.dat\", header=None, sep='\\t')"
   ]
  },
  {
   "cell_type": "code",
   "execution_count": null,
   "metadata": {},
   "outputs": [],
   "source": [
    "data=df.to_numpy()"
   ]
  },
  {
   "cell_type": "code",
   "execution_count": null,
   "metadata": {},
   "outputs": [],
   "source": [
    "trackPt1=data[0]\n",
    "trackPt2=[]\n",
    "trackPt3=[]\n",
    "trackPt4=[]\n",
    "trackPt5=[]\n",
    "#for line in data:\n",
    "#    if startCentrality1<=line[1]<=endCentrality1:\n",
    "#        trackPt1.append(line[0])\n",
    "#savetxt('data.csv', trackPt1, delimiter=',')"
   ]
  },
  {
   "cell_type": "code",
   "execution_count": null,
   "metadata": {},
   "outputs": [],
   "source": [
    "for line in data:\n",
    "    if startCentrality2<=line[1]<=endCentrality2:\n",
    "        trackPt2.append(line[0])"
   ]
  },
  {
   "cell_type": "code",
   "execution_count": null,
   "metadata": {},
   "outputs": [],
   "source": [
    "for line in data:\n",
    "    if startCentrality3<=line[1]<=endCentrality3:\n",
    "        trackPt3.append(line[0])"
   ]
  },
  {
   "cell_type": "code",
   "execution_count": null,
   "metadata": {},
   "outputs": [],
   "source": [
    "for line in data:\n",
    "    if startCentrality4<=line[1]<=endCentrality4:\n",
    "        trackPt4.append(line[0])"
   ]
  },
  {
   "cell_type": "code",
   "execution_count": null,
   "metadata": {},
   "outputs": [],
   "source": [
    "for line in data:\n",
    "    if startCentrality5<=line[1]<=endCentrality5:\n",
    "        trackPt5.append(line[0])"
   ]
  },
  {
   "cell_type": "markdown",
   "metadata": {},
   "source": [
    "Bestimmen der Binbreiten der Histogramme"
   ]
  },
  {
   "cell_type": "code",
   "execution_count": null,
   "metadata": {},
   "outputs": [],
   "source": [
    "fBinWidth=[]\n",
    "for i in range (0,54):\n",
    "    fBinWidth.append((fBinsPt[i+1]-fBinsPt[i]))"
   ]
  },
  {
   "cell_type": "markdown",
   "metadata": {},
   "source": [
    "Bestimmen der Anzahl an Einträgen pro Zentralität"
   ]
  },
  {
   "cell_type": "code",
   "execution_count": null,
   "metadata": {},
   "outputs": [],
   "source": [
    "events=np.genfromtxt(\"event_information.dat\")\n",
    "nEntriesPerCent1=0\n",
    "nEntriesPerCent2=0\n",
    "nEntriesPerCent3=0\n",
    "nEntriesPerCent4=0\n",
    "nEntriesPerCent5=0\n",
    "for line in events:\n",
    "    if startCentrality1<=line[1]<=endCentrality1:\n",
    "        nEntriesPerCent1=nEntriesPerCent1+1\n",
    "    if startCentrality2<=line[1]<=endCentrality2:\n",
    "        nEntriesPerCent2=nEntriesPerCent2+1\n",
    "    if startCentrality3<=line[1]<=endCentrality3:\n",
    "        nEntriesPerCent3=nEntriesPerCent3+1\n",
    "    if startCentrality4<=line[1]<=endCentrality4:\n",
    "        nEntriesPerCent4=nEntriesPerCent4+1\n",
    "    if startCentrality5<=line[1]<=endCentrality5:\n",
    "        nEntriesPerCent5=nEntriesPerCent5+1"
   ]
  },
  {
   "cell_type": "markdown",
   "metadata": {},
   "source": [
    "Erstellen der Histogramme für den Track Tree"
   ]
  },
  {
   "cell_type": "code",
   "execution_count": null,
   "metadata": {
    "scrolled": true
   },
   "outputs": [],
   "source": [
    "fBinsPt2=[]\n",
    "for i in range (0,54):\n",
    "    fBinsPt2.append((fBinsPt[i]+fBinsPt[i+1])/2)\n",
    "hTrackptPbPb_0_100, _=np.histogram(trackPt1, bins=fBinsPt)\n",
    "hTrackptPbPb_0_100_val=(hTrackptPbPb_0_100/fBinWidth)/nEntriesPerCent1\n",
    "hTrackptPbPb_0_100_err=np.sqrt(hTrackptPbPb_0_100)/nEntriesPerCent1\n",
    "hTrackptPbPb_0_5, _=np.histogram(trackPt2, bins=fBinsPt)\n",
    "hTrackptPbPb_0_5_val=(hTrackptPbPb_0_5/fBinWidth)/nEntriesPerCent2\n",
    "hTrackptPbPb_0_5_err=np.sqrt(hTrackptPbPb_0_5)/nEntriesPerCent2\n",
    "hTrackptPbPb_30_40, _=np.histogram(trackPt3, bins=fBinsPt)\n",
    "hTrackptPbPb_30_40_val=(hTrackptPbPb_30_40/fBinWidth)/nEntriesPerCent3\n",
    "hTrackptPbPb_30_40_err=np.sqrt(hTrackptPbPb_30_40)/nEntriesPerCent3\n",
    "hTrackptPbPb_40_50, _=np.histogram(trackPt4, bins=fBinsPt)\n",
    "hTrackptPbPb_40_50_val=(hTrackptPbPb_40_50/fBinWidth)/nEntriesPerCent4\n",
    "hTrackptPbPb_40_50_err=np.sqrt(hTrackptPbPb_40_50)/nEntriesPerCent4\n",
    "hTrackptPbPb_70_80, _=np.histogram(trackPt5, bins=fBinsPt)\n",
    "hTrackptPbPb_70_80_val=(hTrackptPbPb_70_80/fBinWidth)/nEntriesPerCent5\n",
    "hTrackptPbPb_70_80_err=np.sqrt(hTrackptPbPb_70_80)/nEntriesPerCent5\n",
    "\n",
    "\n",
    "\n",
    "\n",
    "plt.errorbar(fBinsPt2,hTrackptPbPb_0_100_val,xerr=(np.asarray(fBinWidth)/2),yerr=hTrackptPbPb_0_100_err,fmt='k.', label='0-100%')\n",
    "plt.errorbar(fBinsPt2,hTrackptPbPb_0_5_val,xerr=(np.asarray(fBinWidth)/2),yerr=hTrackptPbPb_0_5_err,fmt='r.', label='0-5%')\n",
    "plt.errorbar(fBinsPt2,hTrackptPbPb_30_40_val,xerr=(np.asarray(fBinWidth)/2),yerr=hTrackptPbPb_30_40_err,fmt='g.', label='30-40%')\n",
    "plt.errorbar(fBinsPt2,hTrackptPbPb_40_50_val,xerr=(np.asarray(fBinWidth)/2),yerr=hTrackptPbPb_40_50_err,fmt='b.', label='40-50%')\n",
    "plt.errorbar(fBinsPt2,hTrackptPbPb_70_80_val,xerr=(np.asarray(fBinWidth)/2),yerr=hTrackptPbPb_70_80_err,fmt='m.', label='70-80%')\n",
    "plt.yscale('log')\n",
    "plt.xlabel('$p_{T}$')\n",
    "plt.ylabel('Counts')\n",
    "plt.legend(loc='upper right')\n",
    "\n",
    "#plt.hist(trackPt, bins=fBinsPt, histtype='step')#/(fBinWidth)\n",
    "#plt.yscale('log')\n"
   ]
  },
  {
   "cell_type": "markdown",
   "metadata": {},
   "source": [
    "Speichern der Eventdaten in Arrays für die jeweiligen Zentralitäten"
   ]
  },
  {
   "cell_type": "code",
   "execution_count": null,
   "metadata": {},
   "outputs": [],
   "source": [
    "eve=np.genfromtxt('event_information.dat')\n",
    "eventMult_0_100=[]\n",
    "eventMult_0_5=[]\n",
    "eventMult_30_40=[]\n",
    "eventMult_40_50=[]\n",
    "eventMult_70_80=[]\n",
    "Centrality_0_100=[]\n",
    "Centrality_0_5=[]\n",
    "Centrality_30_40=[]\n",
    "Centrality_40_50=[]\n",
    "Centrality_70_80=[]\n",
    "for line in eve:\n",
    "    if startCentrality1<=line[1]<=endCentrality1:\n",
    "        eventMult_0_100.append(line[0])\n",
    "        Centrality_0_100.append(line[1])\n",
    "    if startCentrality2<=line[1]<=endCentrality2:\n",
    "        eventMult_0_5.append(line[0])\n",
    "        Centrality_0_5.append(line[1])\n",
    "    if startCentrality3<=line[1]<=endCentrality3:\n",
    "        eventMult_30_40.append(line[0])\n",
    "        Centrality_30_40.append(line[1])\n",
    "    if startCentrality4<=line[1]<=endCentrality4:\n",
    "        eventMult_40_50.append(line[0])\n",
    "        Centrality_40_50.append(line[1])\n",
    "    if startCentrality5<=line[1]<=endCentrality5:\n",
    "        eventMult_70_80.append(line[0])\n",
    "        Centrality_70_80.append(line[1])"
   ]
  },
  {
   "cell_type": "markdown",
   "metadata": {},
   "source": [
    "Erstellen der Histogramme für die Anzahl der TPC Tracks"
   ]
  },
  {
   "cell_type": "code",
   "execution_count": null,
   "metadata": {},
   "outputs": [],
   "source": [
    "#print(eventMult)\n",
    "hNTPC_0_100=np.histogram(eventMult_0_100, bins=200, range=(0,2000))\n",
    "hNTPC_0_5=np.histogram(eventMult_0_5, bins=200, range=(0,2000))\n",
    "hNTPC_30_40=np.histogram(eventMult_30_40, bins=200, range=(0,2000))\n",
    "hNTPC_40_50=np.histogram(eventMult_40_50, bins=200, range=(0,2000))\n",
    "hNTPC_70_80=np.histogram(eventMult_70_80, bins=200, range=(0,2000))\n",
    "\n",
    "fBins200=[]\n",
    "for i in range (0,200):\n",
    "    fBins200.append((hNTPC_0_100[1][i]+hNTPC_0_100[1][i+1])/2)\n",
    "#print(data3)\n",
    "#print(fBins200)\n",
    "#print(data3[0]/nEntriesPerCent)\n",
    "tpcerr1=np.sqrt(hNTPC_0_100[0])/nEntriesPerCent1\n",
    "tpcerr2=np.sqrt(hNTPC_0_5[0])/nEntriesPerCent2\n",
    "tpcerr3=np.sqrt(hNTPC_30_40[0])/nEntriesPerCent3\n",
    "tpcerr4=np.sqrt(hNTPC_40_50[0])/nEntriesPerCent4\n",
    "tpcerr5=np.sqrt(hNTPC_70_80[0])/nEntriesPerCent5\n",
    "plt.errorbar(fBins200,hNTPC_0_100[0]/nEntriesPerCent1,yerr=tpcerr1, fmt='g+', label='0-100%')\n",
    "plt.errorbar(fBins200,hNTPC_0_5[0]/nEntriesPerCent2,yerr=tpcerr2, fmt='r.',label='0-5%')\n",
    "plt.errorbar(fBins200,hNTPC_30_40[0]/nEntriesPerCent3,yerr=tpcerr3, fmt='b.',label='30-40%')\n",
    "plt.errorbar(fBins200,hNTPC_40_50[0]/nEntriesPerCent4,yerr=tpcerr4, fmt='k.',label='40-50%')\n",
    "plt.errorbar(fBins200,hNTPC_70_80[0]/nEntriesPerCent5,yerr=tpcerr5, fmt='m.',label='70-80%')\n",
    "#plt.hist(eventMult, bins=200, histtype='step')#/(fBinWidth)\n",
    "plt.yscale('log')\n",
    "plt.xlabel('Number TPC tracks')\n",
    "plt.ylabel('Counts/N')\n",
    "plt.legend(loc='upper right')\n",
    "plt.savefig('NTPC_compared.pdf')"
   ]
  },
  {
   "cell_type": "markdown",
   "metadata": {},
   "source": [
    "Erstellen eines 2d-Histogramms Für die Anzahl der TPC Tracks in Abhängigkeit der Zentralität"
   ]
  },
  {
   "cell_type": "code",
   "execution_count": null,
   "metadata": {
    "scrolled": true
   },
   "outputs": [],
   "source": [
    "plt.hist2d(eventMult_0_100,Centrality_0_100, bins=(200,100), range=[[0, 2000], [0, 100]], cmap=plt.cm.jet, norm=mpl.colors.LogNorm())\n",
    "plt.colorbar()\n",
    "plt.xlabel('Number TPC tracks')\n",
    "plt.ylabel('Centrality')"
   ]
  },
  {
   "cell_type": "markdown",
   "metadata": {},
   "source": [
    "Dafinition der Anzahl an Kollisionen für einzelne Zentralitäten"
   ]
  },
  {
   "cell_type": "code",
   "execution_count": null,
   "metadata": {},
   "outputs": [],
   "source": [
    "nColl_0_5=1686.87\n",
    "nColl_0_10=1502.7\n",
    "nColl_5_10=1319.89\n",
    "nColl_10_20=923.89\n",
    "nColl_20_30=558.68\n",
    "nColl_30_40=321.20\n",
    "nColl_40_50=171.67\n",
    "nColl_50_60=85.13\n",
    "nColl_60_70=38.51\n",
    "nColl_70_80=15.78\n",
    "nColl_80_90=6.32"
   ]
  },
  {
   "cell_type": "markdown",
   "metadata": {},
   "source": [
    "Erstellen und Plotten des R_CP"
   ]
  },
  {
   "cell_type": "code",
   "execution_count": null,
   "metadata": {
    "scrolled": false
   },
   "outputs": [],
   "source": [
    "import warnings; warnings.simplefilter('ignore')\n",
    "RCP1=(hTrackptPbPb_0_5_val/nColl_0_5)/(hTrackptPbPb_70_80_val/nColl_70_80)\n",
    "RCP2=(hTrackptPbPb_30_40_val/nColl_30_40)/(hTrackptPbPb_70_80_val/nColl_70_80)\n",
    "RCP3=(hTrackptPbPb_40_50_val/nColl_40_50)/(hTrackptPbPb_70_80_val/nColl_70_80)\n",
    "\n",
    "RCP1err=np.sqrt(((nColl_70_80*hTrackptPbPb_0_5_err)/(nColl_0_5*hTrackptPbPb_70_80_val))**2+((nColl_0_5*hTrackptPbPb_0_5_val*nColl_70_80*hTrackptPbPb_70_80_err)/((nColl_0_5*hTrackptPbPb_70_80_val)**2))**2)\n",
    "RCP2err=np.sqrt(((nColl_70_80*hTrackptPbPb_30_40_err)/(nColl_30_40*hTrackptPbPb_70_80_val))**2+((nColl_30_40*hTrackptPbPb_30_40_val*nColl_70_80*hTrackptPbPb_70_80_err)/((nColl_30_40*hTrackptPbPb_70_80_val)**2))**2)\n",
    "RCP3err=np.sqrt(((nColl_70_80*hTrackptPbPb_40_50_err)/(nColl_40_50*hTrackptPbPb_70_80_val))**2+((nColl_40_50*hTrackptPbPb_40_50_val*nColl_70_80*hTrackptPbPb_70_80_err)/((nColl_40_50*hTrackptPbPb_70_80_val)**2))**2)\n",
    "\n",
    "plt.errorbar(fBinsPt2,RCP1,xerr=(np.asarray(fBinWidth)/2),yerr=RCP1err, fmt='r.', label='0-5%')\n",
    "plt.errorbar(fBinsPt2,RCP2,xerr=(np.asarray(fBinWidth)/2),yerr=RCP2err, fmt='g.', label='30-40%')\n",
    "plt.errorbar(fBinsPt2,RCP3,xerr=(np.asarray(fBinWidth)/2),yerr=RCP3err, fmt='b.', label='40-50%')\n",
    "plt.legend(loc='upper right')\n",
    "\n",
    "\n",
    "plt.xlabel('$p_{T}$')\n",
    "plt.ylabel(r'$R_{cp}=\\frac{1/N^{AA,X}_{evt}1/<N_{coll,X}>dN^{AA,X}/dp_t}{1/N^{PbPb,per}_{evt}1/<N_{coll,per}>dN^{PbPb,per}/dp_t}$')\n",
    "plt.savefig('RCP_compared.pdf')"
   ]
  },
  {
   "cell_type": "markdown",
   "metadata": {},
   "source": [
    "Laden der Daten aus pp-Stößen"
   ]
  },
  {
   "cell_type": "code",
   "execution_count": null,
   "metadata": {},
   "outputs": [],
   "source": [
    "pp=np.genfromtxt('pp_reference.dat')\n",
    "pptrack=[]\n",
    "for line in pp:\n",
    "    pptrack.append(line)"
   ]
  },
  {
   "cell_type": "markdown",
   "metadata": {},
   "source": [
    "Erstellen und Plotten des R_AA"
   ]
  },
  {
   "cell_type": "code",
   "execution_count": null,
   "metadata": {},
   "outputs": [],
   "source": [
    "RAA1=(hTrackptPbPb_0_5_val/nColl_0_5)/np.asarray(pptrack)\n",
    "RAA2=(hTrackptPbPb_30_40_val/nColl_30_40)/np.asarray(pptrack)\n",
    "RAA3=(hTrackptPbPb_40_50_val/nColl_40_50)/np.asarray(pptrack)\n",
    "RAA4=(hTrackptPbPb_70_80_val/nColl_70_80)/np.asarray(pptrack)\n",
    "\n",
    "\n",
    "RAA1_err=(hTrackptPbPb_0_5_err/nColl_0_5)/np.asarray(pptrack)\n",
    "RAA2_err=(hTrackptPbPb_30_40_err/nColl_30_40)/np.asarray(pptrack)\n",
    "RAA3_err=(hTrackptPbPb_40_50_err/nColl_40_50)/np.asarray(pptrack)\n",
    "RAA4_err=(hTrackptPbPb_70_80_err/nColl_70_80)/np.asarray(pptrack)\n",
    "\n",
    "plt.errorbar(fBinsPt2,RAA1,xerr=(np.asarray(fBinWidth)/2),yerr=RAA1_err,fmt='r.',label='0-5%')\n",
    "plt.errorbar(fBinsPt2,RAA2,xerr=(np.asarray(fBinWidth)/2),yerr=RAA2_err,fmt='g.',label='30-40%')\n",
    "plt.errorbar(fBinsPt2,RAA3,xerr=(np.asarray(fBinWidth)/2),yerr=RAA3_err,fmt='b.',label='40-50%')\n",
    "plt.errorbar(fBinsPt2,RAA4,xerr=(np.asarray(fBinWidth)/2),yerr=RAA4_err,fmt='k.',label='70-80%')\n",
    "plt.legend(loc='upper left')\n",
    "\n",
    "plt.xlabel('$p_{T}$')\n",
    "plt.ylabel(r'$R_{AA}=\\frac{1/N^{AA}_{evt}dN^{AA}/dp_t}{<N_{coll}>1/N_{pp_{evt}dN^{pp}/dp_t}}$')\n",
    "plt.savefig('RAA_compared.pdf')"
   ]
  },
  {
   "cell_type": "code",
   "execution_count": null,
   "metadata": {},
   "outputs": [],
   "source": []
  }
 ],
 "metadata": {
  "kernelspec": {
   "display_name": "Python 3",
   "language": "python",
   "name": "python3"
  },
  "language_info": {
   "codemirror_mode": {
    "name": "ipython",
    "version": 3
   },
   "file_extension": ".py",
   "mimetype": "text/x-python",
   "name": "python",
   "nbconvert_exporter": "python",
   "pygments_lexer": "ipython3",
   "version": "3.6.9"
  }
 },
 "nbformat": 4,
 "nbformat_minor": 2
}
